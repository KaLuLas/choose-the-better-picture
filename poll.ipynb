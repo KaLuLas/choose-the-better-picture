{
 "cells": [
  {
   "cell_type": "code",
   "execution_count": 6,
   "metadata": {},
   "outputs": [],
   "source": [
    "#[方法（左），方法（右），图片序号，选择（左或右），选择的方法]"
   ]
  },
  {
   "cell_type": "code",
   "execution_count": 7,
   "metadata": {},
   "outputs": [
    {
     "name": "stdout",
     "output_type": "stream",
     "text": [
      "[[2, 3, 1, 0, 2], [2, 1, 2, 1, 1], [3, 1, 2, 0, 3], [3, 1, 4, 1, 1], [3, 1, 3, 0, 3], [2, 1, 1, 1, 1], [2, 3, 2, 0, 2], [2, 1, 3, 1, 1], [2, 3, 4, 0, 2], [3, 1, 1, 1, 1], [2, 3, 3, 0, 2], [2, 1, 4, 1, 1]]\n",
      "[6, 4, 2]\n"
     ]
    }
   ],
   "source": [
    "from tkinter import *\n",
    "from PIL import Image, ImageTk\n",
    "import random\n",
    "method_num = 3     #方法数量\n",
    "picture_num = 4    #图片数量\n",
    "list_a = []\n",
    "list_b = []\n",
    "\n",
    "# 从各种方法中取2种组合，并随机打乱顺序\n",
    "for i in range(1,method_num):\n",
    "    for j in range(i+1,method_num+1):\n",
    "        tmp = [i, j]\n",
    "        random.shuffle(tmp)\n",
    "        #list_a用来记录这些方法的组合。以3种方法为例，list_a可以为：[[2, 1], [1, 3], [3, 2]]\n",
    "        list_a.append(tmp)\n",
    "\n",
    "#每张图片都要经过list_a的组合进行比较，用list_b来记录，元素格式为：[方法（左），方法（右），图片序号]\n",
    "for i in list_a:\n",
    "    for j in range(1, picture_num+1):\n",
    "        list_b.append(i+[j])\n",
    "        \n",
    "random.shuffle(list_b)\n",
    "# 以4张图片为例，随机排序后的list_b可以为：\n",
    "# [[2, 1, 1], [2, 1, 2], [2, 1, 3], [2, 1, 4], [3, 1, 1], [3, 1, 2], [3, 1, 3], [3, 1, 4], [3, 2, 1], [3, 2, 2], [3, 2, 3], [3, 2, 4]]\n",
    "\n",
    "#choice为用户的选择，由0和1组成。0表示选择左图，1表示选择右图\n",
    "choice = []\n",
    "\n",
    "#“left”、“right”按钮所对应的指令\n",
    "def data_append():\n",
    "    choice.append(data.get())  #将用户选择“左”或“右”加入choice列表\n",
    "    root.destroy()   #终止本次循环，进入下一组选择\n",
    "\n",
    "    \n",
    "for i in range(len(list_b)):\n",
    "    root = Tk()\n",
    "    \n",
    "    #加载左图。路径与list_b中的列表项有关\n",
    "    load = Image.open(\"methods/\"+str(list_b[i][0])+\"/\"+str(list_b[i][2])+\".jpg\")\n",
    "    render= ImageTk.PhotoImage(load)\n",
    "    img = Label(root,image=render)\n",
    "    img.image = render\n",
    "    img.place(x=0,y=0)  #设置图片放置位置\n",
    "\n",
    "    #加载右图。路径与list_b中的列表项有关\n",
    "    load2 = Image.open(\"methods/\"+str(list_b[i][1])+\"/\"+str(list_b[i][2])+\".jpg\")\n",
    "    render2= ImageTk.PhotoImage(load2)\n",
    "    img2 = Label(root,image=render2)\n",
    "    img2.image = render2\n",
    "    img2.place(x=load.size[0]+100,y=0)   #设置图片放置位置\n",
    "    \n",
    "    #设置窗口的大小\n",
    "    width = load.size[0]+load2.size[0]+100\n",
    "    height = max(load.size[1],load2.size[1])\n",
    "    root.geometry('%dx%d'%(width,height))\n",
    "    root.title(\"Choose The Better One\")\n",
    "    \n",
    "    data = IntVar()\n",
    "    #设置“左”与“右”按钮\n",
    "    left_button = Radiobutton(root, text = \"Left\", variable=data, value= 0, padx=20, pady=5, command = data_append).pack()\n",
    "    right_button = Radiobutton(root, text = \"Right\", variable=data, value= 1, padx=20, pady=5, command = data_append).pack()\n",
    "    root.mainloop()\n",
    "\n",
    "#list_b中元素原本的格式为：[方法（左），方法（右），图片序号]，现在加上用户的选择（0或1），与0、1对应的方法\n",
    "#更改后格式：[方法（左），方法（右），图片序号，选择（左或右），选择的方法]\n",
    "for i in range(len(list_b)):\n",
    "    list_b[i].append(choice[i])\n",
    "    list_b[i].append(list_b[i][choice[i]])\n",
    "\n",
    "#method_count所记录的是每一个方法由一名用户选择的数量，如：[1, 6, 5]，表示方法1选择1次，方法2选择6次，方法3选择5次\n",
    "method_count = [0 for i in range(method_num)]\n",
    "for i in range(len(list_b)):\n",
    "    method_count[list_b[i][4]-1] += 1\n",
    "    \n",
    "print(list_b)\n",
    "print(method_count)"
   ]
  },
  {
   "cell_type": "code",
   "execution_count": 8,
   "metadata": {},
   "outputs": [],
   "source": [
    "#将本次用户的选择存入文档\n",
    "with open('methods/results.txt', 'a') as fw:\n",
    "      fw.write(' '.join([str(i) for i in method_count])+'\\n')"
   ]
  },
  {
   "cell_type": "code",
   "execution_count": 9,
   "metadata": {},
   "outputs": [
    {
     "name": "stdout",
     "output_type": "stream",
     "text": [
      "[['5', '3', '4'], ['5', '3', '4'], ['5', '3', '4'], ['5', '2', '5'], ['1', '6', '5'], ['6', '4', '2']]\n"
     ]
    }
   ],
   "source": [
    "#读取所有用户的选择\n",
    "results=[]\n",
    "with open('methods/results.txt','r') as fr:\n",
    "    for line in fr:\n",
    "        results.append(list(line.strip('\\n').split(' ')))\n",
    "print(results)"
   ]
  },
  {
   "cell_type": "code",
   "execution_count": 10,
   "metadata": {},
   "outputs": [
    {
     "data": {
      "text/plain": [
       "[27, 21, 24]"
      ]
     },
     "execution_count": 10,
     "metadata": {},
     "output_type": "execute_result"
    }
   ],
   "source": [
    "#method_sum为所有用户的选择\n",
    "method_sum =  [0 for i in range(method_num)]\n",
    "for i in range(len(results)):\n",
    "    for j in range(method_num):\n",
    "        method_sum[j] += int(results[i][j])\n",
    "method_sum"
   ]
  }
 ],
 "metadata": {
  "kernelspec": {
   "display_name": "Python 3",
   "language": "python",
   "name": "python3"
  },
  "language_info": {
   "codemirror_mode": {
    "name": "ipython",
    "version": 3
   },
   "file_extension": ".py",
   "mimetype": "text/x-python",
   "name": "python",
   "nbconvert_exporter": "python",
   "pygments_lexer": "ipython3",
   "version": "3.6.5"
  }
 },
 "nbformat": 4,
 "nbformat_minor": 2
}
